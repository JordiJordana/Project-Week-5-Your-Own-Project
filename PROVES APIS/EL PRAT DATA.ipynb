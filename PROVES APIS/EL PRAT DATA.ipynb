{
 "cells": [
  {
   "cell_type": "code",
   "execution_count": 1,
   "metadata": {},
   "outputs": [],
   "source": [
    "import requests\n",
    "import pandas as pd\n",
    "from datetime import datetime"
   ]
  },
  {
   "cell_type": "code",
   "execution_count": 10,
   "metadata": {},
   "outputs": [],
   "source": [
    "SITE = \"https://api.meteostat.net\"\n",
    "VERSION = 'v1'\n",
    "PACKAGE = 'history'\n",
    "METHOD = 'daily'\n",
    "PARAMETERS = 'station=08181&start=2018-11-05&end=2018-11-08'\n",
    "key = 'kSXgmbeq'"
   ]
  },
  {
   "cell_type": "code",
   "execution_count": 11,
   "metadata": {},
   "outputs": [],
   "source": [
    "resp = requests.get(f'{SITE}/{VERSION}/{PACKAGE}/{METHOD}?{PARAMETERS}&key={key}')"
   ]
  },
  {
   "cell_type": "code",
   "execution_count": 12,
   "metadata": {},
   "outputs": [
    {
     "data": {
      "text/plain": [
       "{'meta': {'source': 'National Oceanic and Atmospheric Administration, Deutscher Wetterdienst'},\n",
       " 'data': [{'date': '2018-11-05',\n",
       "   'temperature': 15.4,\n",
       "   'temperature_min': 12.1,\n",
       "   'temperature_max': 19.9,\n",
       "   'precipitation': 2.1,\n",
       "   'snowfall': None,\n",
       "   'snowdepth': None,\n",
       "   'winddirection': 229,\n",
       "   'windspeed': 15.8,\n",
       "   'peakgust': None,\n",
       "   'sunshine': None,\n",
       "   'pressure': 1005.6},\n",
       "  {'date': '2018-11-06',\n",
       "   'temperature': 13.3,\n",
       "   'temperature_min': 10.6,\n",
       "   'temperature_max': 17.1,\n",
       "   'precipitation': 2,\n",
       "   'snowfall': None,\n",
       "   'snowdepth': None,\n",
       "   'winddirection': 270,\n",
       "   'windspeed': 16.7,\n",
       "   'peakgust': None,\n",
       "   'sunshine': None,\n",
       "   'pressure': 1009.1},\n",
       "  {'date': '2018-11-07',\n",
       "   'temperature': 13.9,\n",
       "   'temperature_min': 9.5,\n",
       "   'temperature_max': 19.6,\n",
       "   'precipitation': None,\n",
       "   'snowfall': None,\n",
       "   'snowdepth': None,\n",
       "   'winddirection': 217,\n",
       "   'windspeed': 11.3,\n",
       "   'peakgust': None,\n",
       "   'sunshine': None,\n",
       "   'pressure': 1013.5},\n",
       "  {'date': '2018-11-08',\n",
       "   'temperature': 13.8,\n",
       "   'temperature_min': 11.2,\n",
       "   'temperature_max': 18.1,\n",
       "   'precipitation': 18.9,\n",
       "   'snowfall': None,\n",
       "   'snowdepth': None,\n",
       "   'winddirection': 152,\n",
       "   'windspeed': 11.4,\n",
       "   'peakgust': None,\n",
       "   'sunshine': None,\n",
       "   'pressure': 1018.1}]}"
      ]
     },
     "execution_count": 12,
     "metadata": {},
     "output_type": "execute_result"
    }
   ],
   "source": [
    "rain = resp.json()\n",
    "rain"
   ]
  },
  {
   "cell_type": "code",
   "execution_count": null,
   "metadata": {},
   "outputs": [],
   "source": []
  }
 ],
 "metadata": {
  "kernelspec": {
   "display_name": "Python 3",
   "language": "python",
   "name": "python3"
  },
  "language_info": {
   "codemirror_mode": {
    "name": "ipython",
    "version": 3
   },
   "file_extension": ".py",
   "mimetype": "text/x-python",
   "name": "python",
   "nbconvert_exporter": "python",
   "pygments_lexer": "ipython3",
   "version": "3.7.4"
  }
 },
 "nbformat": 4,
 "nbformat_minor": 2
}
